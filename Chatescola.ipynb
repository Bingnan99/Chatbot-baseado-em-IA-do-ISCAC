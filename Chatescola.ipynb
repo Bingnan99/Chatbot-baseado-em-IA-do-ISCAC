{
 "cells": [
  {
   "cell_type": "code",
   "execution_count": 3,
   "metadata": {},
   "outputs": [
    {
     "name": "stdout",
     "output_type": "stream",
     "text": [
      " * Serving Flask app '__main__'\n",
      " * Debug mode: off\n"
     ]
    },
    {
     "name": "stderr",
     "output_type": "stream",
     "text": [
      "WARNING: This is a development server. Do not use it in a production deployment. Use a production WSGI server instead.\n",
      " * Running on all addresses (0.0.0.0)\n",
      " * Running on http://127.0.0.1:8080\n",
      " * Running on http://192.168.1.72:8080\n",
      "Press CTRL+C to quit\n",
      "127.0.0.1 - - [20/Jun/2024 17:53:11] \"GET / HTTP/1.1\" 200 -\n"
     ]
    },
    {
     "name": "stdout",
     "output_type": "stream",
     "text": [
      "Wrong token\n"
     ]
    },
    {
     "name": "stderr",
     "output_type": "stream",
     "text": [
      "127.0.0.1 - - [20/Jun/2024 17:53:11] \"GET /favicon.ico HTTP/1.1\" 404 -\n",
      "127.0.0.1 - - [20/Jun/2024 17:53:15] \"GET / HTTP/1.1\" 200 -\n"
     ]
    },
    {
     "name": "stdout",
     "output_type": "stream",
     "text": [
      "Wrong token\n"
     ]
    }
   ],
   "source": [
    "from flask import Flask, request\n",
    "import json\n",
    "import requests\n",
    "from openai import OpenAI\n",
    "\n",
    "app = Flask(__name__)\n",
    "\n",
    "PAGE_ACCESS_TOKEN = \"\" #inserir o token\n",
    "LATEST_API_VERSION = \"v19.0\"\n",
    "API = \"https://graph.facebook.com/\"+LATEST_API_VERSION+\"/me/messages?access_token=\"+PAGE_ACCESS_TOKEN\n",
    "\n",
    "chave = \"\" # inserir a chave\n",
    "assis_id = \"\" # inserir o assistant id\n",
    "openai_client = OpenAI(api_key=chave)\n",
    "\n",
    "@app.route('/hello/', methods=['GET', 'POST'])\n",
    "def hello_world():\n",
    "    return \"Hello World at localhost:8080\"\n",
    "\n",
    "def send_message(sender_id, message_text):\n",
    "    '''\n",
    "    Sending response back to the user using facebook graph API\n",
    "    '''\n",
    "    r = requests.post(\"https://graph.facebook.com/\"+LATEST_API_VERSION+\"/me/messages\",\n",
    "                      params={\"access_token\": PAGE_ACCESS_TOKEN},\n",
    "                      headers={\"Content-Type\": \"application/json\"},\n",
    "                      data=json.dumps({\n",
    "                          \"recipient\": {\"id\": sender_id},\n",
    "                          \"message\": {\"text\": message_text}\n",
    "                      }))\n",
    "    print(r.text)\n",
    "\n",
    "@app.route('/', methods=['GET'])\n",
    "def handle_verification():\n",
    "    if (request.args.get('hub.verify_token', '') == \"chatescola2024\"):\n",
    "        print(\"Verified\")\n",
    "        return request.args.get('hub.challenge', '')\n",
    "    else:\n",
    "        print(\"Wrong token\")\n",
    "        return \"Error, wrong validation token\"\n",
    "\n",
    "@app.route('/', methods=['POST'])\n",
    "def handle_message():\n",
    "    '''\n",
    "    Handle messages sent by Facebook Messenger to the application\n",
    "    '''\n",
    "    data = request.get_json()\n",
    "    print(data)\n",
    "    if data[\"object\"] == \"page\":\n",
    "        for entry in data[\"entry\"]:\n",
    "            for messaging_event in entry[\"messaging\"]:\n",
    "                if messaging_event.get(\"message\"):\n",
    "                    sender_id = messaging_event[\"sender\"][\"id\"]\n",
    "                    recipient_id = messaging_event[\"recipient\"][\"id\"]\n",
    "                    try:\n",
    "                        message_text = messaging_event[\"message\"][\"text\"]\n",
    "                        # Send the received message to OpenAI API\n",
    "                        thread = openai_client.beta.threads.create(messages=[{\"role\": \"user\",\n",
    "                                                                              \"content\": message_text}])\n",
    "                        run = openai_client.beta.threads.runs.create(thread_id=thread.id, assistant_id=assis_id)\n",
    "                        while run.status != \"completed\":\n",
    "                            run = openai_client.beta.threads.runs.retrieve(thread_id=thread.id, run_id=run.id)\n",
    "                        else:\n",
    "                            message_response = openai_client.beta.threads.messages.list(thread_id=thread.id)\n",
    "                            messages = message_response.data\n",
    "                            response = messages[0]\n",
    "                            response_text = response.content[0].text.value\n",
    "                            send_message(sender_id, response_text)\n",
    "                    except Exception as e:\n",
    "                        print(\"Error:\", e)\n",
    "    return \"ok\"\n",
    "\n",
    "if __name__ == '__main__':\n",
    "    app.run(host='0.0.0.0', port=8080)"
   ]
  }
 ],
 "metadata": {
  "kernelspec": {
   "display_name": "base",
   "language": "python",
   "name": "python3"
  },
  "language_info": {
   "codemirror_mode": {
    "name": "ipython",
    "version": 3
   },
   "file_extension": ".py",
   "mimetype": "text/x-python",
   "name": "python",
   "nbconvert_exporter": "python",
   "pygments_lexer": "ipython3",
   "version": "3.11.3"
  }
 },
 "nbformat": 4,
 "nbformat_minor": 2
}
